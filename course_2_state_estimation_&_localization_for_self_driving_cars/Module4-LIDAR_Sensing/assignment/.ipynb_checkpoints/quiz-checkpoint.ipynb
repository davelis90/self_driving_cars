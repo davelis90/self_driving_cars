{
 "cells": [
  {
   "cell_type": "code",
   "execution_count": 28,
   "metadata": {},
   "outputs": [
    {
     "name": "stdout",
     "output_type": "stream",
     "text": [
      "3.9242410487616275 0.6919495757003578 0.34862297099063266\n",
      "[1. 0. 0.]\n",
      "3\n",
      "[[1. 1. 1.]\n",
      " [1. 1. 2.]\n",
      " [1. 1. 3.]]\n",
      "[1. 2. 3.]\n"
     ]
    }
   ],
   "source": [
    "from numpy import *\n",
    "\n",
    "e = 5 * pi/180\n",
    "a = 10 * pi/180\n",
    "r = 4\n",
    "\n",
    "x = r * cos(a) * cos(e)\n",
    "y = r * sin(a) * cos(e)\n",
    "z = r * sin(e)\n",
    "print(x, y, z)\n",
    "\n",
    "p = zeros(3)  # Position vector \n",
    "p[0] = 1\n",
    "print(p)\n",
    "P = ones([3, 3])  # state covariance matrices\n",
    "P[:,2] = [1, 2, 3]\n",
    "print(len(P))\n",
    "print(P)\n",
    "print(P[:,2])"
   ]
  },
  {
   "cell_type": "code",
   "execution_count": 1,
   "metadata": {},
   "outputs": [],
   "source": [
    "from numpy import *\n",
    "\n",
    "def sph_to_cart(epsilon, alpha, r):\n",
    "  \"\"\"\n",
    "  Transform sensor readings to Cartesian coordinates in the sensor\n",
    "  frame. The values of epsilon and alpha are given in radians, while \n",
    "  r is in metres. Epsilon is the elevation angle and alpha is the\n",
    "  azimuth angle (i.e., in the x,y plane).\n",
    "  \"\"\"\n",
    "  p = zeros(3)  # Position vector \n",
    "  \n",
    "  # Your code here\n",
    "  p[0] = r * cos(a) * cos(e)\n",
    "  p[1] = r * sin(a) * cos(e)\n",
    "  p[2] = r * sin(e)\n",
    "  \n",
    "  return p\n",
    "  \n",
    "def estimate_params(P):\n",
    "  \"\"\"\n",
    "  Estimate parameters from sensor readings in the Cartesian frame.\n",
    "  Each row in the P matrix contains a single 3D point measurement;\n",
    "  the matrix P has size n x 3 (for n points). The format is:\n",
    "  \n",
    "  P = [[x1, y1, z1],\n",
    "       [x2, x2, z2], ...]\n",
    "       \n",
    "  where all coordinate values are in metres. Three parameters are\n",
    "  required to fit the plane, a, b, and c, according to the equation\n",
    "  \n",
    "  z = a + bx + cy\n",
    "  \n",
    "  The function should retrn the parameters as a NumPy array of size\n",
    "  three, in the order [a, b, c].\n",
    "  \"\"\"\n",
    "  param_est = zeros(3)\n",
    "  \n",
    "  # Your code here\n",
    "  A = ones([len(P), 3])  # state covariance matrices\n",
    "  A[:,1] = P[:,0]\n",
    "  A[:,2] = P[:,1]\n",
    "#   b = zeros(len(P))\n",
    "  b = P[:,2] # passing all the z\n",
    "  \n",
    "  return param_est\n",
    "  "
   ]
  }
 ],
 "metadata": {
  "kernelspec": {
   "display_name": "Python 3",
   "language": "python",
   "name": "python3"
  },
  "language_info": {
   "codemirror_mode": {
    "name": "ipython",
    "version": 3
   },
   "file_extension": ".py",
   "mimetype": "text/x-python",
   "name": "python",
   "nbconvert_exporter": "python",
   "pygments_lexer": "ipython3",
   "version": "3.5.3"
  }
 },
 "nbformat": 4,
 "nbformat_minor": 4
}
